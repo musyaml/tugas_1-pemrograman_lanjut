{
  "nbformat": 4,
  "nbformat_minor": 0,
  "metadata": {
    "colab": {
      "provenance": [],
      "authorship_tag": "ABX9TyOWIB691zYkY+veOkbSDAPU",
      "include_colab_link": true
    },
    "kernelspec": {
      "name": "python3",
      "display_name": "Python 3"
    },
    "language_info": {
      "name": "python"
    }
  },
  "cells": [
    {
      "cell_type": "markdown",
      "metadata": {
        "id": "view-in-github",
        "colab_type": "text"
      },
      "source": [
        "<a href=\"https://colab.research.google.com/github/musyaml/tugas_1-pemrograman_lanjut/blob/main/perhitungan_nilai_mahasiswa.ipynb\" target=\"_parent\"><img src=\"https://colab.research.google.com/assets/colab-badge.svg\" alt=\"Open In Colab\"/></a>"
      ]
    },
    {
      "cell_type": "code",
      "execution_count": null,
      "metadata": {
        "colab": {
          "base_uri": "https://localhost:8080/"
        },
        "id": "lICfZkxjG4sS",
        "outputId": "623352bd-14f5-4591-d14a-506cfcdf2d7c"
      },
      "outputs": [
        {
          "output_type": "stream",
          "name": "stdout",
          "text": [
            "Selamat Datang di Aplikasi Perhitungan Nilai Mahasiswa\n",
            "======================================================\n",
            "Silakan masukkan nilai tugas Anda   : 95\n",
            "Silakan masukkan nilai UTS Anda     : 90\n",
            "Silakan masukkan nilai UAS Anda     : 90\n",
            "Nilai Akhir Anda Adalah             :  91.25\n",
            "Selamat, Anda mendapat nilai A\n"
          ]
        }
      ],
      "source": [
        "import os\n",
        "os.system(\"cls\")\n",
        "\n",
        "print(\"Selamat Datang di Aplikasi Perhitungan Nilai Mahasiswa\")\n",
        "print(\"======================================================\")\n",
        "nilai_tugas = input(\"Silakan masukkan nilai tugas Anda   : \")\n",
        "nilai_uts = input(\"Silakan masukkan nilai UTS Anda     : \")\n",
        "nilai_uas = input(\"Silakan masukkan nilai UAS Anda     : \")\n",
        "nilai_akhir = (0.25 * float(nilai_tugas)) + (0.35 * float(nilai_uts)) + (0.4 * float(nilai_uas))\n",
        "print(\"Nilai Akhir Anda Adalah             : \", nilai_akhir)\n",
        "\n",
        "if nilai_akhir >= 85:\n",
        "    print(\"Selamat, Anda mendapat nilai A\")\n",
        "elif nilai_akhir >= 80 and nilai_akhir < 85:\n",
        "    print(\"Selamat, Anda mendapat nilai A-\")\n",
        "elif nilai_akhir >= 75 and nilai_akhir < 80:\n",
        "    print(\"Selamat, Anda mendapat nilai B+\")\n",
        "elif nilai_akhir >= 70 and nilai_akhir < 75:\n",
        "    print(\"Anda mendapat nilai B\")\n",
        "elif nilai_akhir >= 65 and nilai_akhir < 70:\n",
        "    print(\"Anda mendapat nilai B-\")\n",
        "elif nilai_akhir >= 60 and nilai_akhir < 65:\n",
        "    print(\"Anda mendapat nilai C+\")\n",
        "elif nilai_akhir >= 55 and nilai_akhir < 60:\n",
        "    print(\"Perhatian, Anda mendapat nilai C\")\n",
        "elif nilai_akhir >= 50 and nilai_akhir < 55:\n",
        "    print(\"Perhatian, Anda mendapat nilai C-\")\n",
        "elif nilai_akhir >= 30 and nilai_akhir < 50:\n",
        "    print(\"Perhatian, Anda mendapat nilai D\")\n",
        "elif nilai_akhir < 30:\n",
        "    print(\"Anda mendapat nilai E, Anda tidak lulus mata kuliah ini\")\n",
        "else:\n",
        "    print(\"Nilai anda tidak valid\")"
      ]
    }
  ]
}